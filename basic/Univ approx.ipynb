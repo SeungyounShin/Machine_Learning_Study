{
 "cells": [
  {
   "cell_type": "markdown",
   "metadata": {},
   "source": [
    "## Universal Approximation "
   ]
  },
  {
   "cell_type": "code",
   "execution_count": 67,
   "metadata": {},
   "outputs": [],
   "source": [
    "import numpy as np\n",
    "x = torch.Tensor([0.6373, 2.0517, 0.21299, -0.48576, -0.92179, 0.24809, 0.40409, 0.19031, -0.31677, 1.2812, -0.015976, -0.67058, -0.95553, -2.5868, -0.23984, 1.0187, 0.78393, 1.9629, -0.056186, 0.60923, 1.1868, -0.82416, 1.0349, -1.6482, -1.1432, 0.37964, 1.5819, -1.1218, 0.56133, 0.19066, -0.50102, -0.10873, -0.86301, 0.73113, -0.36435, -0.3426, -1.3141, -1.5615, 0.54802, 0.12719, 0.65468, -1.0537, 1.1295, 0.22502, 0.11351, -0.40481, -0.97005, 1.0453, 0.46876, 1.0499, -1.9301, -1.3338, 0.0082426, -0.87422, -0.24905, 0.92774, 1.1047, 0.031851, -0.91958, 2.269, 0.70671, 1.8234, 1.5302, -1.1137, 1.9584, 0.63619, 0.80029, -0.28729, -0.68864, -0.72136, -0.76462, -0.4987, 1.6098, 0.0016518, 0.61789, -0.037868, 1.2526, -2.3154, 0.52645, -0.91985, 0.13548, 0.53272, -0.43713, 1.9099, 0.24488, -1.3335, 1.2825, 0.21574, 1.9676, -1.5845, -0.075263, -0.063388, 0.33074, -0.08535, -0.20776, 1.3674, -0.27097, 0.73597, 0.24882, 1.548])\n"
   ]
  },
  {
   "cell_type": "code",
   "execution_count": 68,
   "metadata": {},
   "outputs": [],
   "source": [
    "def fun(x):\n",
    "    return 3.71*x*x*x+4.591*x*x-9.56*x+7"
   ]
  },
  {
   "cell_type": "code",
   "execution_count": 69,
   "metadata": {},
   "outputs": [],
   "source": [
    "y = np.asarray([fun(x) for x in x])"
   ]
  },
  {
   "cell_type": "code",
   "execution_count": 70,
   "metadata": {},
   "outputs": [],
   "source": [
    "def y_(x):\n",
    "    w = torch.Tensor([18.416,-16.9365,-0.0326,5.8652])\n",
    "    w = w.view(-1,4)\n",
    "    x = [x**3,x**2,x,1]\n",
    "    x = torch.Tensor(x)\n",
    "    x = x.view(4,-1)\n",
    "    return torch.mm(w,x)"
   ]
  },
  {
   "cell_type": "code",
   "execution_count": 71,
   "metadata": {},
   "outputs": [],
   "source": [
    "import matplotlib.pyplot as plt"
   ]
  },
  {
   "cell_type": "code",
   "execution_count": 72,
   "metadata": {},
   "outputs": [
    {
     "data": {
      "image/png": "[encoded data removed]",
      "text/plain": [
       "<matplotlib.figure.Figure at 0x127da7128>"
      ]
     },
     "metadata": {},
     "output_type": "display_data"
    }
   ],
   "source": [
    "plt.scatter(x,y)\n",
    "plt.show()"
   ]
  },
  {
   "cell_type": "code",
   "execution_count": 73,
   "metadata": {},
   "outputs": [],
   "source": [
    "y_pred = []\n",
    "for i in x:\n",
    "    i = np.float(i)\n",
    "    y_pred.append(y_(i))"
   ]
  },
  {
   "cell_type": "code",
   "execution_count": 74,
   "metadata": {},
   "outputs": [
    {
     "data": {
      "image/png": "[encoded data removed]",
      "text/plain": [
       "<matplotlib.figure.Figure at 0x12a99d198>"
      ]
     },
     "metadata": {},
     "output_type": "display_data"
    }
   ],
   "source": [
    "plt.scatter(x,np.asarray(y_pred))\n",
    "plt.show()"
   ]
  },
  {
   "cell_type": "code",
   "execution_count": 124,
   "metadata": {},
   "outputs": [],
   "source": [
    "import torch.nn.functional as F\n",
    "import torch"
   ]
  },
  {
   "cell_type": "code",
   "execution_count": 163,
   "metadata": {},
   "outputs": [],
   "source": [
    "class NN(nn.Module):\n",
    "    def __init__(self):\n",
    "        super(NN,self).__init__()\n",
    "        self.linear1 = torch.nn.Linear(1,100)\n",
    "        self.linear2 = torch.nn.Linear(100,1)\n",
    "\n",
    "    def forward(self, x):\n",
    "        x = self.linear1(x)\n",
    "        x = F.relu(x)\n",
    "        x = self.linear2(x)\n",
    "        x = F.relu(x)\n",
    "        return x\n",
    "\n",
    "net = NN()"
   ]
  },
  {
   "cell_type": "code",
   "execution_count": 164,
   "metadata": {},
   "outputs": [],
   "source": [
    "criterion = torch.nn.MSELoss(size_average=None, reduce=None, reduction='mean')\n",
    "optimizer = optim.SGD(net.parameters(), lr=0.001, momentum=0.9)"
   ]
  },
  {
   "cell_type": "code",
   "execution_count": 165,
   "metadata": {},
   "outputs": [
    {
     "name": "stdout",
     "output_type": "stream",
     "text": [
      "11847.497787248576\n",
      "169.17396651503282\n",
      "217.0878231428187\n",
      "186.50542741515164\n",
      "178.6406171284616\n"
     ]
    }
   ],
   "source": [
    "for epoch in range(100):\n",
    "    running_loss = 0.0\n",
    "    for i in range(len(x)):\n",
    "        x_ = x[i].view(1)\n",
    "        label = torch.Tensor([y[i]])\n",
    "        optimizer.zero_grad()\n",
    "        loss = criterion(label,net(x_))\n",
    "        loss.backward()\n",
    "        optimizer.step()\n",
    "        \n",
    "        running_loss += loss.item()\n",
    "    if(epoch%20 ==0):\n",
    "        print(running_loss)"
   ]
  },
  {
   "cell_type": "code",
   "execution_count": 166,
   "metadata": {},
   "outputs": [
    {
     "data": {
      "text/plain": [
       "tensor([133.5745], grad_fn=<ReluBackward0>)"
      ]
     },
     "execution_count": 166,
     "metadata": {},
     "output_type": "execute_result"
    }
   ],
   "source": [
    "net(torch.Tensor([4]))"
   ]
  },
  {
   "cell_type": "code",
   "execution_count": 167,
   "metadata": {},
   "outputs": [],
   "source": [
    "def net_out(x):\n",
    "    x = torch.Tensor([x])\n",
    "    return net(x)"
   ]
  },
  {
   "cell_type": "code",
   "execution_count": 168,
   "metadata": {},
   "outputs": [
    {
     "data": {
      "image/png": "[encoded data removed]",
      "text/plain": [
       "<matplotlib.figure.Figure at 0x12a92d6d8>"
      ]
     },
     "metadata": {},
     "output_type": "display_data"
    }
   ],
   "source": [
    "plt.scatter(x,y)\n",
    "plt.show()"
   ]
  },
  {
   "cell_type": "code",
   "execution_count": 169,
   "metadata": {},
   "outputs": [
    {
     "data": {
      "image/png": "[encoded data removed]",
      "text/plain": [
       "<matplotlib.figure.Figure at 0x12a433828>"
      ]
     },
     "metadata": {},
     "output_type": "display_data"
    }
   ],
   "source": [
    "y_pred = []\n",
    "for i in x:\n",
    "    i = np.float(i)\n",
    "    y_pred.append(net_out(i))\n",
    "\n",
    "plt.scatter(x,np.asarray(y_pred))\n",
    "plt.show()"
   ]
  },
  {
   "cell_type": "code",
   "execution_count": null,
   "metadata": {},
   "outputs": [],
   "source": []
  }
 ],
 "metadata": {
  "kernelspec": {
   "display_name": "Python 3",
   "language": "python",
   "name": "python3"
  },
  "language_info": {
   "codemirror_mode": {
    "name": "ipython",
    "version": 3
   },
   "file_extension": ".py",
   "mimetype": "text/x-python",
   "name": "python",
   "nbconvert_exporter": "python",
   "pygments_lexer": "ipython3",
   "version": "3.6.1"
  }
 },
 "nbformat": 4,
 "nbformat_minor": 2
}
